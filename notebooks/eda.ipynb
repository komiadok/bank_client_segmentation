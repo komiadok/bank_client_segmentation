{
 "cells": [
  {
   "cell_type": "markdown",
   "id": "7e5b26fb-203e-478a-9907-c8340d7d3311",
   "metadata": {},
   "source": [
    "<div align=\"center\">\n",
    "\n",
    "# Prédiction de la souscription d'un dépôt à terme  \n",
    "\n",
    "## Analyse exploratoire des données\n",
    "\n",
    "<img src=\"https://raw.githubusercontent.com/komiadok/bank_client_segmentation/main/cover_image.jpg\" alt=\"Segmentation de clients bancaires\" width=\"500\"/>\n",
    "\n",
    "</div>"
   ]
  },
  {
   "cell_type": "markdown",
   "id": "3d46fe05-ce54-4730-88b9-945591d3e0f0",
   "metadata": {},
   "source": [
    "<div style=\"background-color:#008080; color:white; padding:15px; border-radius:8px; font-weight:bold; font-size:16px;\">\n",
    "📚 Chargement des librairies\n",
    "</div>"
   ]
  },
  {
   "cell_type": "code",
   "execution_count": 1,
   "id": "4b5d02c1-7785-43b1-93d8-dbeca9f2f0d1",
   "metadata": {},
   "outputs": [],
   "source": [
    "import pandas as pd\n",
    "import numpy as np\n",
    "import matplotlib.pyplot as plt\n",
    "import seaborn as sns"
   ]
  },
  {
   "cell_type": "markdown",
   "id": "41fc89eb-048b-4d33-942e-23f530ac2e4f",
   "metadata": {},
   "source": [
    "<div style=\"background-color:#008080; color:white; padding:15px; border-radius:8px; font-weight:bold; font-size:16px;\">\n",
    "🗃️ Partie 1 : Importation des données\n",
    "</div>"
   ]
  },
  {
   "cell_type": "code",
   "execution_count": 2,
   "id": "84beac8e-172a-49f7-89c4-573fb7dabadb",
   "metadata": {},
   "outputs": [],
   "source": [
    "data = pd.read_csv('dataset_preprocess.csv', sep = ',')"
   ]
  },
  {
   "cell_type": "code",
   "execution_count": 3,
   "id": "5bf194d2-0a16-4a8f-abaf-10e68c14fa31",
   "metadata": {},
   "outputs": [
    {
     "name": "stdout",
     "output_type": "stream",
     "text": [
      "Taille du dataframe : (41180, 35)\n"
     ]
    }
   ],
   "source": [
    "print(f'Taille du dataframe : {data.shape}')"
   ]
  },
  {
   "cell_type": "code",
   "execution_count": 4,
   "id": "bc7b235f-ccd7-43e1-99c8-de48c6b7b3e6",
   "metadata": {},
   "outputs": [
    {
     "data": {
      "text/html": [
       "<div>\n",
       "<style scoped>\n",
       "    .dataframe tbody tr th:only-of-type {\n",
       "        vertical-align: middle;\n",
       "    }\n",
       "\n",
       "    .dataframe tbody tr th {\n",
       "        vertical-align: top;\n",
       "    }\n",
       "\n",
       "    .dataframe thead th {\n",
       "        text-align: right;\n",
       "    }\n",
       "</style>\n",
       "<table border=\"1\" class=\"dataframe\">\n",
       "  <thead>\n",
       "    <tr style=\"text-align: right;\">\n",
       "      <th></th>\n",
       "      <th>age</th>\n",
       "      <th>job</th>\n",
       "      <th>marital</th>\n",
       "      <th>education</th>\n",
       "      <th>default</th>\n",
       "      <th>housing</th>\n",
       "      <th>loan</th>\n",
       "      <th>contact</th>\n",
       "      <th>month</th>\n",
       "      <th>day_of_week</th>\n",
       "      <th>...</th>\n",
       "      <th>never_contacted</th>\n",
       "      <th>job_missing_flag</th>\n",
       "      <th>marital_missing_flag</th>\n",
       "      <th>education_missing_flag</th>\n",
       "      <th>default_missing_flag</th>\n",
       "      <th>housing_missing_flag</th>\n",
       "      <th>loan_missing_flag</th>\n",
       "      <th>duration_outlier_flag</th>\n",
       "      <th>campaign_outlier_flag</th>\n",
       "      <th>age_group</th>\n",
       "    </tr>\n",
       "  </thead>\n",
       "  <tbody>\n",
       "    <tr>\n",
       "      <th>0</th>\n",
       "      <td>56</td>\n",
       "      <td>housemaid</td>\n",
       "      <td>married</td>\n",
       "      <td>basic.4y</td>\n",
       "      <td>no</td>\n",
       "      <td>no</td>\n",
       "      <td>no</td>\n",
       "      <td>telephone</td>\n",
       "      <td>may</td>\n",
       "      <td>mon</td>\n",
       "      <td>...</td>\n",
       "      <td>1</td>\n",
       "      <td>0</td>\n",
       "      <td>0</td>\n",
       "      <td>0</td>\n",
       "      <td>0</td>\n",
       "      <td>0</td>\n",
       "      <td>0</td>\n",
       "      <td>1</td>\n",
       "      <td>0</td>\n",
       "      <td>Préretraités</td>\n",
       "    </tr>\n",
       "    <tr>\n",
       "      <th>1</th>\n",
       "      <td>57</td>\n",
       "      <td>services</td>\n",
       "      <td>married</td>\n",
       "      <td>high.school</td>\n",
       "      <td>missing</td>\n",
       "      <td>no</td>\n",
       "      <td>no</td>\n",
       "      <td>telephone</td>\n",
       "      <td>may</td>\n",
       "      <td>mon</td>\n",
       "      <td>...</td>\n",
       "      <td>1</td>\n",
       "      <td>0</td>\n",
       "      <td>0</td>\n",
       "      <td>0</td>\n",
       "      <td>1</td>\n",
       "      <td>0</td>\n",
       "      <td>0</td>\n",
       "      <td>0</td>\n",
       "      <td>0</td>\n",
       "      <td>Préretraités</td>\n",
       "    </tr>\n",
       "    <tr>\n",
       "      <th>2</th>\n",
       "      <td>37</td>\n",
       "      <td>services</td>\n",
       "      <td>married</td>\n",
       "      <td>high.school</td>\n",
       "      <td>no</td>\n",
       "      <td>yes</td>\n",
       "      <td>no</td>\n",
       "      <td>telephone</td>\n",
       "      <td>may</td>\n",
       "      <td>mon</td>\n",
       "      <td>...</td>\n",
       "      <td>1</td>\n",
       "      <td>0</td>\n",
       "      <td>0</td>\n",
       "      <td>0</td>\n",
       "      <td>0</td>\n",
       "      <td>0</td>\n",
       "      <td>0</td>\n",
       "      <td>1</td>\n",
       "      <td>0</td>\n",
       "      <td>Actifs intermédiaires</td>\n",
       "    </tr>\n",
       "    <tr>\n",
       "      <th>3</th>\n",
       "      <td>40</td>\n",
       "      <td>admin.</td>\n",
       "      <td>married</td>\n",
       "      <td>basic.6y</td>\n",
       "      <td>no</td>\n",
       "      <td>no</td>\n",
       "      <td>no</td>\n",
       "      <td>telephone</td>\n",
       "      <td>may</td>\n",
       "      <td>mon</td>\n",
       "      <td>...</td>\n",
       "      <td>1</td>\n",
       "      <td>0</td>\n",
       "      <td>0</td>\n",
       "      <td>0</td>\n",
       "      <td>0</td>\n",
       "      <td>0</td>\n",
       "      <td>0</td>\n",
       "      <td>0</td>\n",
       "      <td>0</td>\n",
       "      <td>Actifs intermédiaires</td>\n",
       "    </tr>\n",
       "    <tr>\n",
       "      <th>4</th>\n",
       "      <td>56</td>\n",
       "      <td>services</td>\n",
       "      <td>married</td>\n",
       "      <td>high.school</td>\n",
       "      <td>no</td>\n",
       "      <td>no</td>\n",
       "      <td>yes</td>\n",
       "      <td>telephone</td>\n",
       "      <td>may</td>\n",
       "      <td>mon</td>\n",
       "      <td>...</td>\n",
       "      <td>1</td>\n",
       "      <td>0</td>\n",
       "      <td>0</td>\n",
       "      <td>0</td>\n",
       "      <td>0</td>\n",
       "      <td>0</td>\n",
       "      <td>0</td>\n",
       "      <td>1</td>\n",
       "      <td>0</td>\n",
       "      <td>Préretraités</td>\n",
       "    </tr>\n",
       "  </tbody>\n",
       "</table>\n",
       "<p>5 rows × 35 columns</p>\n",
       "</div>"
      ],
      "text/plain": [
       "   age        job  marital    education  default housing loan    contact  \\\n",
       "0   56  housemaid  married     basic.4y       no      no   no  telephone   \n",
       "1   57   services  married  high.school  missing      no   no  telephone   \n",
       "2   37   services  married  high.school       no     yes   no  telephone   \n",
       "3   40     admin.  married     basic.6y       no      no   no  telephone   \n",
       "4   56   services  married  high.school       no      no  yes  telephone   \n",
       "\n",
       "  month day_of_week  ...  never_contacted  job_missing_flag  \\\n",
       "0   may         mon  ...                1                 0   \n",
       "1   may         mon  ...                1                 0   \n",
       "2   may         mon  ...                1                 0   \n",
       "3   may         mon  ...                1                 0   \n",
       "4   may         mon  ...                1                 0   \n",
       "\n",
       "   marital_missing_flag  education_missing_flag default_missing_flag  \\\n",
       "0                     0                       0                    0   \n",
       "1                     0                       0                    1   \n",
       "2                     0                       0                    0   \n",
       "3                     0                       0                    0   \n",
       "4                     0                       0                    0   \n",
       "\n",
       "   housing_missing_flag  loan_missing_flag  duration_outlier_flag  \\\n",
       "0                     0                  0                      1   \n",
       "1                     0                  0                      0   \n",
       "2                     0                  0                      1   \n",
       "3                     0                  0                      0   \n",
       "4                     0                  0                      1   \n",
       "\n",
       "   campaign_outlier_flag              age_group  \n",
       "0                      0           Préretraités  \n",
       "1                      0           Préretraités  \n",
       "2                      0  Actifs intermédiaires  \n",
       "3                      0  Actifs intermédiaires  \n",
       "4                      0           Préretraités  \n",
       "\n",
       "[5 rows x 35 columns]"
      ]
     },
     "execution_count": 4,
     "metadata": {},
     "output_type": "execute_result"
    }
   ],
   "source": [
    "data.head()"
   ]
  },
  {
   "cell_type": "markdown",
   "id": "ff29be79-3859-42cf-8cb3-37b8b7d29abe",
   "metadata": {},
   "source": [
    "<div style=\"background-color:#008080; color:white; padding:15px; border-radius:8px; font-weight:bold; font-size:16px;\">\n",
    "🔗 Partie 2 : Croisement avec la variable target\n",
    "</div>"
   ]
  },
  {
   "cell_type": "markdown",
   "id": "fc005261-ac0e-4674-90cb-8f7e29bf040e",
   "metadata": {},
   "source": [
    "### Classes d'âge vs Souscription"
   ]
  },
  {
   "cell_type": "code",
   "execution_count": 5,
   "id": "e2ec92c3-a0e9-4e78-88dc-0eebc6abcf5b",
   "metadata": {},
   "outputs": [],
   "source": [
    "# Conversion de la variable y (yes/no) en binaire (yes=1, no=0)\n",
    "data['y'] = data['y'].map({'no': 0, 'yes': 1})"
   ]
  },
  {
   "cell_type": "code",
   "execution_count": 6,
   "id": "ac6802d7-ea31-4bc8-a881-e09a19f6a9a3",
   "metadata": {},
   "outputs": [
    {
     "data": {
      "text/html": [
       "<div>\n",
       "<style scoped>\n",
       "    .dataframe tbody tr th:only-of-type {\n",
       "        vertical-align: middle;\n",
       "    }\n",
       "\n",
       "    .dataframe tbody tr th {\n",
       "        vertical-align: top;\n",
       "    }\n",
       "\n",
       "    .dataframe thead th {\n",
       "        text-align: right;\n",
       "    }\n",
       "</style>\n",
       "<table border=\"1\" class=\"dataframe\">\n",
       "  <thead>\n",
       "    <tr style=\"text-align: right;\">\n",
       "      <th></th>\n",
       "      <th>age_group</th>\n",
       "      <th>subscription_rate</th>\n",
       "      <th>effectif</th>\n",
       "    </tr>\n",
       "  </thead>\n",
       "  <tbody>\n",
       "    <tr>\n",
       "      <th>0</th>\n",
       "      <td>Retraités avancés</td>\n",
       "      <td>0.520446</td>\n",
       "      <td>269</td>\n",
       "    </tr>\n",
       "    <tr>\n",
       "      <th>1</th>\n",
       "      <td>Retraités récents</td>\n",
       "      <td>0.439086</td>\n",
       "      <td>394</td>\n",
       "    </tr>\n",
       "    <tr>\n",
       "      <th>2</th>\n",
       "      <td>Jeunes débutants</td>\n",
       "      <td>0.238946</td>\n",
       "      <td>1063</td>\n",
       "    </tr>\n",
       "    <tr>\n",
       "      <th>3</th>\n",
       "      <td>Préretraités</td>\n",
       "      <td>0.135688</td>\n",
       "      <td>3567</td>\n",
       "    </tr>\n",
       "    <tr>\n",
       "      <th>4</th>\n",
       "      <td>Jeunes actifs</td>\n",
       "      <td>0.121739</td>\n",
       "      <td>13685</td>\n",
       "    </tr>\n",
       "    <tr>\n",
       "      <th>5</th>\n",
       "      <td>Actifs matures</td>\n",
       "      <td>0.086532</td>\n",
       "      <td>8702</td>\n",
       "    </tr>\n",
       "    <tr>\n",
       "      <th>6</th>\n",
       "      <td>Actifs intermédiaires</td>\n",
       "      <td>0.086519</td>\n",
       "      <td>13500</td>\n",
       "    </tr>\n",
       "  </tbody>\n",
       "</table>\n",
       "</div>"
      ],
      "text/plain": [
       "               age_group  subscription_rate  effectif\n",
       "0      Retraités avancés           0.520446       269\n",
       "1      Retraités récents           0.439086       394\n",
       "2       Jeunes débutants           0.238946      1063\n",
       "3           Préretraités           0.135688      3567\n",
       "4          Jeunes actifs           0.121739     13685\n",
       "5         Actifs matures           0.086532      8702\n",
       "6  Actifs intermédiaires           0.086519     13500"
      ]
     },
     "execution_count": 6,
     "metadata": {},
     "output_type": "execute_result"
    }
   ],
   "source": [
    "# Calcul du taux de souscription par groupe d’âge\n",
    "rate_age = (\n",
    "    data.groupby('age_group')['y']\n",
    "    .agg(subscription_rate='mean', effectif='size')  # calcule la moyenne et la taille\n",
    "    .reset_index()\n",
    "    .sort_values('subscription_rate', ascending=False)\n",
    "    .reset_index(drop=True)\n",
    ")\n",
    "rate_age"
   ]
  },
  {
   "cell_type": "code",
   "execution_count": 7,
   "id": "3a98c1d6-3010-4cd9-89f0-d805bada2a89",
   "metadata": {},
   "outputs": [],
   "source": [
    "def plot_horizontal_bar_with_labels(ax, df, x_col, title):\n",
    "    \"\"\"\n",
    "    Description:\n",
    "        Trace un barplot avec annotations pour visualiser le taux de souscription.\n",
    "\n",
    "    Arguments:\n",
    "        ax : l'axe sur lequel tracer le graphique.\n",
    "        df : le DataFrame contenant les données.\n",
    "        x_col (str) : le nom de la colonne à utiliser pour l'axe X (catégories).\n",
    "        title (str) : le titre du graphique.\n",
    "\n",
    "    Retourne:\n",
    "        Un barplot avec des annotations\n",
    "    \"\"\"\n",
    "    \n",
    "    # Création d'une palette \"Greens\" (du vert foncé au clair)\n",
    "    palette = sns.color_palette(\"Greens\", n_colors=len(df))\n",
    "\n",
    "    # Création du barplot\n",
    "    sns.barplot(\n",
    "        data=df,\n",
    "        y=x_col,\n",
    "        x='subscription_rate',\n",
    "        hue='subscription_rate', # Utilisation de la variable 'subscription_rate' pour la couleur\n",
    "        palette=palette,         \n",
    "        legend=False,\n",
    "        ax=ax\n",
    "    )\n",
    "\n",
    "    # Ajout des pourcentages sur les barres\n",
    "    for p in ax.patches:\n",
    "        ax.annotate(\n",
    "            f\"{p.get_width()*100:.1f}%\",                               # Texte avec pourcentage formaté\n",
    "            (p.get_x() + p.get_width(), p.get_y() + p.get_height()/2), # Position à gauche de la barre\n",
    "            ha='left', va='center', fontsize=10                        # Alignement horizontal et vertical, taille du texte\n",
    "        )\n",
    "    ax.set_title(title, fontsize=12, fontweight='bold')      # Titre du graphique avec style gras et taille de police\n",
    "    ax.set_xlabel(\"\")                                        # Suppression du label de l'axe X\n",
    "    ax.set_ylabel(\"\")                                        # Suppression du label de l'axe Y\n",
    "    ax.set_xticks([])                                        # Suppression des valeurs affichées sur l'axe X"
   ]
  },
  {
   "cell_type": "code",
   "execution_count": 8,
   "id": "7a38f77a-492f-4d25-bcfe-7ea37008d5d5",
   "metadata": {},
   "outputs": [
    {
     "data": {
      "image/png": "[encoded data removed]",
      "text/plain": [
       "<Figure size 600x300 with 1 Axes>"
      ]
     },
     "metadata": {},
     "output_type": "display_data"
    }
   ],
   "source": [
    "# Configuration du style sans grille\n",
    "sns.set_theme(style=\"white\")  # Style clair sans grilles\n",
    "\n",
    "# Figure + axes\n",
    "fig, ax = plt.subplots(figsize=(6, 3))\n",
    "\n",
    "# Application de la fonction\n",
    "plot_horizontal_bar_with_labels(ax, rate_age, 'age_group', \"Taux de souscription par groupe d’âge\")\n",
    "\n",
    "# Ajustements\n",
    "plt.tight_layout()\n",
    "plt.xlim(0,0.7)           # Limites de l'axe X de 0 à 0.7 (0% à 70%)\n",
    "plt.show()"
   ]
  },
  {
   "cell_type": "markdown",
   "id": "edcb6263-0277-4cdc-b8dd-c371d304b114",
   "metadata": {},
   "source": [
    "**Observation**\n",
    "\n",
    "Le graphique met en lumière que le segment des `Retraités avancés` (**75 ans et plus**) présente le taux de souscription le plus élevé aux dépôts à terme, avec **52 %**. Ils sont suivis par les `Retraités récents` (**65-74 ans**) affichant un taux de **43,9 %**. Le troisième groupe le plus important en termes de souscription est celui des `Jeunes débutants` (**18-24 ans**), avec un taux de **23,9 %**.<br>\n",
    "À l’inverse, les `Actifs intermédiaires` (**35-44 ans**) et les `Actifs matures` (**45-54 ans**) enregistrent les taux de souscription les plus faibles, chacun à **8,7 %**.\n",
    "\n",
    "**Interprétation**\n",
    "\n",
    "Le fort taux de souscription observé chez les `Retraités récents` et les `Retraités récents` suggère que ces segments sont particulièrement réceptifs aux produits d’épargne à long terme comme les dépôts à terme. Cela peut s’expliquer par une recherche de sécurité et de rendement stable dans une phase de vie où le revenu est souvent fixe. Avec un taux de souscription de 23,9 %, les `Jeunes débutants` représentent également un segment intéressant, bien que leur propension à souscrire soit nettement inférieure à celle des retraités. Ce résultat peut refléter un début d’intérêt pour les produits d’épargne sécurisés, mais aussi des contraintes spécifiques telles que des revenus plus faibles. <br>\n",
    "À l’inverse, les `Actifs intermédiaires` et les `Actifs matures` montrent une faible propension à souscrire, ce qui pourrait refléter une préférence pour d’autres types d’investissements ou une priorité différente en matière de gestion financière, notamment une plus grande prise de risque ou un horizon d’épargne plus flexible."
   ]
  },
  {
   "cell_type": "markdown",
   "id": "813d5b72-a736-43a9-8987-0afa6bb04ef0",
   "metadata": {},
   "source": [
    "### Catégorie socio-professionnelle vs Souscription"
   ]
  },
  {
   "cell_type": "code",
   "execution_count": 9,
   "id": "a120a295-2636-45ea-8a9d-2ff7c6f969c1",
   "metadata": {},
   "outputs": [
    {
     "data": {
      "text/html": [
       "<div>\n",
       "<style scoped>\n",
       "    .dataframe tbody tr th:only-of-type {\n",
       "        vertical-align: middle;\n",
       "    }\n",
       "\n",
       "    .dataframe tbody tr th {\n",
       "        vertical-align: top;\n",
       "    }\n",
       "\n",
       "    .dataframe thead th {\n",
       "        text-align: right;\n",
       "    }\n",
       "</style>\n",
       "<table border=\"1\" class=\"dataframe\">\n",
       "  <thead>\n",
       "    <tr style=\"text-align: right;\">\n",
       "      <th></th>\n",
       "      <th>job</th>\n",
       "      <th>subscription_rate</th>\n",
       "      <th>effectif</th>\n",
       "    </tr>\n",
       "  </thead>\n",
       "  <tbody>\n",
       "    <tr>\n",
       "      <th>0</th>\n",
       "      <td>student</td>\n",
       "      <td>0.313793</td>\n",
       "      <td>870</td>\n",
       "    </tr>\n",
       "    <tr>\n",
       "      <th>1</th>\n",
       "      <td>retired</td>\n",
       "      <td>0.252326</td>\n",
       "      <td>1720</td>\n",
       "    </tr>\n",
       "    <tr>\n",
       "      <th>2</th>\n",
       "      <td>unemployed</td>\n",
       "      <td>0.142152</td>\n",
       "      <td>1013</td>\n",
       "    </tr>\n",
       "    <tr>\n",
       "      <th>3</th>\n",
       "      <td>admin.</td>\n",
       "      <td>0.129726</td>\n",
       "      <td>10422</td>\n",
       "    </tr>\n",
       "    <tr>\n",
       "      <th>4</th>\n",
       "      <td>management</td>\n",
       "      <td>0.112175</td>\n",
       "      <td>2924</td>\n",
       "    </tr>\n",
       "    <tr>\n",
       "      <th>5</th>\n",
       "      <td>missing</td>\n",
       "      <td>0.112121</td>\n",
       "      <td>330</td>\n",
       "    </tr>\n",
       "    <tr>\n",
       "      <th>6</th>\n",
       "      <td>technician</td>\n",
       "      <td>0.108293</td>\n",
       "      <td>6741</td>\n",
       "    </tr>\n",
       "    <tr>\n",
       "      <th>7</th>\n",
       "      <td>self-employed</td>\n",
       "      <td>0.104856</td>\n",
       "      <td>1421</td>\n",
       "    </tr>\n",
       "    <tr>\n",
       "      <th>8</th>\n",
       "      <td>housemaid</td>\n",
       "      <td>0.100000</td>\n",
       "      <td>1060</td>\n",
       "    </tr>\n",
       "    <tr>\n",
       "      <th>9</th>\n",
       "      <td>entrepreneur</td>\n",
       "      <td>0.085165</td>\n",
       "      <td>1456</td>\n",
       "    </tr>\n",
       "    <tr>\n",
       "      <th>10</th>\n",
       "      <td>services</td>\n",
       "      <td>0.081381</td>\n",
       "      <td>3969</td>\n",
       "    </tr>\n",
       "    <tr>\n",
       "      <th>11</th>\n",
       "      <td>blue-collar</td>\n",
       "      <td>0.068943</td>\n",
       "      <td>9254</td>\n",
       "    </tr>\n",
       "  </tbody>\n",
       "</table>\n",
       "</div>"
      ],
      "text/plain": [
       "              job  subscription_rate  effectif\n",
       "0         student           0.313793       870\n",
       "1         retired           0.252326      1720\n",
       "2      unemployed           0.142152      1013\n",
       "3          admin.           0.129726     10422\n",
       "4      management           0.112175      2924\n",
       "5         missing           0.112121       330\n",
       "6      technician           0.108293      6741\n",
       "7   self-employed           0.104856      1421\n",
       "8       housemaid           0.100000      1060\n",
       "9    entrepreneur           0.085165      1456\n",
       "10       services           0.081381      3969\n",
       "11    blue-collar           0.068943      9254"
      ]
     },
     "execution_count": 9,
     "metadata": {},
     "output_type": "execute_result"
    }
   ],
   "source": [
    "# Calcul du taux de souscription par catégorie professionnelle\n",
    "rate_job = (\n",
    "    data.groupby('job')['y']\n",
    "    .agg(subscription_rate='mean', effectif='size')  # calcule la moyenne et la taille\n",
    "    .reset_index()\n",
    "    .sort_values('subscription_rate', ascending=False)\n",
    "    .reset_index(drop=True)\n",
    ")\n",
    "rate_job"
   ]
  },
  {
   "cell_type": "code",
   "execution_count": 10,
   "id": "0cafe31a-671c-41df-aecb-0b2fb2d3d14e",
   "metadata": {},
   "outputs": [
    {
     "data": {
      "image/png": "[encoded data removed]",
      "text/plain": [
       "<Figure size 600x300 with 1 Axes>"
      ]
     },
     "metadata": {},
     "output_type": "display_data"
    }
   ],
   "source": [
    "# Configuration du style sans grille\n",
    "sns.set_theme(style=\"white\")  # Style clair sans grilles\n",
    "\n",
    "# Figure + axes\n",
    "fig, ax = plt.subplots(figsize=(6, 3))\n",
    "\n",
    "# Application de la fonction\n",
    "plot_horizontal_bar_with_labels(ax, rate_job, 'job', \"Taux de souscription par catégorie socio-professionnelle\")\n",
    "\n",
    "# Ajustements\n",
    "plt.tight_layout()\n",
    "plt.xlim(0,0.4)           # Limites de l'axe X de 0 à 0.4 (0% à 40%)\n",
    "plt.show()"
   ]
  },
  {
   "cell_type": "markdown",
   "id": "d4d06cca-1951-4bb2-893c-36b92c128763",
   "metadata": {},
   "source": [
    "**Interprétation**\n",
    "\n",
    "L’analyse croisée entre la profession et le taux de souscription aux dépôts à terme met en évidence des disparités significatives entre les différents segments professionnels.<br>\n",
    "Les étudiants affichent le taux de souscription le plus élevé, avec **31,4 %**, suivis des retraités à **25,2 %**. Ces résultats suggèrent que ces deux segments sont les plus enclins à souscrire à des produits d’épargne sécurisés, malgré des profils financiers et des besoins potentiellement très différents.<br>\n",
    "Les chômeurs enregistrent un taux de souscription de **14,2 %**, ce qui, bien que plus modéré, reste supérieur à celui des entrepreneurs (**8,5 %**), des professions de service (**8,1 %**) et des ouvriers (**6,9 %**), qui présentent les taux les plus faibles.<br>\n",
    "Cette hiérarchisation indique que la propension à souscrire varie fortement selon le statut professionnel, probablement liée à des facteurs tels que la stabilité des revenus, les priorités financières et le niveau de connaissance des produits d’épargne."
   ]
  },
  {
   "cell_type": "markdown",
   "id": "6941829d-07a1-4b2c-958b-495ce93e8dc1",
   "metadata": {},
   "source": [
    "### Situation matrimoniale vs Souscription"
   ]
  },
  {
   "cell_type": "code",
   "execution_count": 11,
   "id": "265c9608-da5d-453c-973e-0de0dc7589a9",
   "metadata": {},
   "outputs": [
    {
     "data": {
      "text/html": [
       "<div>\n",
       "<style scoped>\n",
       "    .dataframe tbody tr th:only-of-type {\n",
       "        vertical-align: middle;\n",
       "    }\n",
       "\n",
       "    .dataframe tbody tr th {\n",
       "        vertical-align: top;\n",
       "    }\n",
       "\n",
       "    .dataframe thead th {\n",
       "        text-align: right;\n",
       "    }\n",
       "</style>\n",
       "<table border=\"1\" class=\"dataframe\">\n",
       "  <thead>\n",
       "    <tr style=\"text-align: right;\">\n",
       "      <th></th>\n",
       "      <th>marital</th>\n",
       "      <th>subscription_rate</th>\n",
       "      <th>effectif</th>\n",
       "    </tr>\n",
       "  </thead>\n",
       "  <tbody>\n",
       "    <tr>\n",
       "      <th>0</th>\n",
       "      <td>missing</td>\n",
       "      <td>0.150000</td>\n",
       "      <td>80</td>\n",
       "    </tr>\n",
       "    <tr>\n",
       "      <th>1</th>\n",
       "      <td>single</td>\n",
       "      <td>0.139929</td>\n",
       "      <td>11563</td>\n",
       "    </tr>\n",
       "    <tr>\n",
       "      <th>2</th>\n",
       "      <td>divorced</td>\n",
       "      <td>0.103209</td>\n",
       "      <td>4612</td>\n",
       "    </tr>\n",
       "    <tr>\n",
       "      <th>3</th>\n",
       "      <td>married</td>\n",
       "      <td>0.101585</td>\n",
       "      <td>24925</td>\n",
       "    </tr>\n",
       "  </tbody>\n",
       "</table>\n",
       "</div>"
      ],
      "text/plain": [
       "    marital  subscription_rate  effectif\n",
       "0   missing           0.150000        80\n",
       "1    single           0.139929     11563\n",
       "2  divorced           0.103209      4612\n",
       "3   married           0.101585     24925"
      ]
     },
     "execution_count": 11,
     "metadata": {},
     "output_type": "execute_result"
    }
   ],
   "source": [
    "# Calcul du taux de souscription par situation matrimoniale\n",
    "rate_marital = (\n",
    "    data.groupby('marital')['y']\n",
    "    .agg(subscription_rate='mean', effectif='size')  # calcule la moyenne et la taille\n",
    "    .reset_index()\n",
    "    .sort_values('subscription_rate', ascending=False)\n",
    "    .reset_index(drop=True)\n",
    ")\n",
    "rate_marital"
   ]
  },
  {
   "cell_type": "code",
   "execution_count": 12,
   "id": "6a6e47f4-86de-46d1-b267-a1a37479826e",
   "metadata": {},
   "outputs": [
    {
     "data": {
      "image/png": "[encoded data removed]",
      "text/plain": [
       "<Figure size 600x300 with 1 Axes>"
      ]
     },
     "metadata": {},
     "output_type": "display_data"
    }
   ],
   "source": [
    "# Configuration du style sans grille\n",
    "sns.set_theme(style=\"white\")  # Style clair sans grilles\n",
    "\n",
    "# Figure + axes\n",
    "fig, ax = plt.subplots(figsize=(6, 3))\n",
    "\n",
    "# Application de la fonction\n",
    "plot_horizontal_bar_with_labels(ax, rate_marital, 'marital', \"Taux de souscription par situation matrimoniale\")\n",
    "\n",
    "# Ajustements\n",
    "plt.tight_layout()\n",
    "plt.xlim(0,0.2)           # Limites de l'axe X de 0 à 0.2 (0% à 20%)\n",
    "plt.show()"
   ]
  },
  {
   "cell_type": "markdown",
   "id": "5391db54-659e-481e-870a-060417e8aea9",
   "metadata": {},
   "source": [
    "**Interprétation**\n",
    "\n",
    "L’analyse des taux de souscription aux dépôts à terme selon la situation matrimoniale révèle des différences marquées entre les groupes.<br>\n",
    "Les individus dont la situation matrimoniale est manquante présentent le taux de souscription le plus élevé à 15,0 %, suivis des célibataires à 14,0 %. En revanche, les divorcés et les personnes mariées affichent des taux nettement plus faibles, respectivement 10,3 % et 10,2 %.<br>\n",
    "Ces résultats suggèrent que les personnes sans engagement conjugal formel ou dont le statut est inconnu manifestent une propension plus élevée à souscrire à ces produits, potentiellement en lien avec des priorités financières ou un niveau d’engagement différent en matière d’épargne."
   ]
  },
  {
   "cell_type": "markdown",
   "id": "5579ae2c-2020-4198-97f0-9a976d81ac51",
   "metadata": {},
   "source": [
    "### Niveau d'études vs Souscription"
   ]
  },
  {
   "cell_type": "code",
   "execution_count": 13,
   "id": "3c6663f9-eda7-41c5-ac58-2a90bf8eb384",
   "metadata": {},
   "outputs": [
    {
     "data": {
      "text/html": [
       "<div>\n",
       "<style scoped>\n",
       "    .dataframe tbody tr th:only-of-type {\n",
       "        vertical-align: middle;\n",
       "    }\n",
       "\n",
       "    .dataframe tbody tr th {\n",
       "        vertical-align: top;\n",
       "    }\n",
       "\n",
       "    .dataframe thead th {\n",
       "        text-align: right;\n",
       "    }\n",
       "</style>\n",
       "<table border=\"1\" class=\"dataframe\">\n",
       "  <thead>\n",
       "    <tr style=\"text-align: right;\">\n",
       "      <th></th>\n",
       "      <th>education</th>\n",
       "      <th>subscription_rate</th>\n",
       "      <th>effectif</th>\n",
       "    </tr>\n",
       "  </thead>\n",
       "  <tbody>\n",
       "    <tr>\n",
       "      <th>0</th>\n",
       "      <td>illiterate</td>\n",
       "      <td>0.222222</td>\n",
       "      <td>18</td>\n",
       "    </tr>\n",
       "    <tr>\n",
       "      <th>1</th>\n",
       "      <td>missing</td>\n",
       "      <td>0.144592</td>\n",
       "      <td>1729</td>\n",
       "    </tr>\n",
       "    <tr>\n",
       "      <th>2</th>\n",
       "      <td>university.degree</td>\n",
       "      <td>0.137245</td>\n",
       "      <td>12168</td>\n",
       "    </tr>\n",
       "    <tr>\n",
       "      <th>3</th>\n",
       "      <td>professional.course</td>\n",
       "      <td>0.113528</td>\n",
       "      <td>5241</td>\n",
       "    </tr>\n",
       "    <tr>\n",
       "      <th>4</th>\n",
       "      <td>high.school</td>\n",
       "      <td>0.108367</td>\n",
       "      <td>9514</td>\n",
       "    </tr>\n",
       "    <tr>\n",
       "      <th>5</th>\n",
       "      <td>basic.4y</td>\n",
       "      <td>0.102490</td>\n",
       "      <td>4176</td>\n",
       "    </tr>\n",
       "    <tr>\n",
       "      <th>6</th>\n",
       "      <td>basic.6y</td>\n",
       "      <td>0.082024</td>\n",
       "      <td>2292</td>\n",
       "    </tr>\n",
       "    <tr>\n",
       "      <th>7</th>\n",
       "      <td>basic.9y</td>\n",
       "      <td>0.078120</td>\n",
       "      <td>6042</td>\n",
       "    </tr>\n",
       "  </tbody>\n",
       "</table>\n",
       "</div>"
      ],
      "text/plain": [
       "             education  subscription_rate  effectif\n",
       "0           illiterate           0.222222        18\n",
       "1              missing           0.144592      1729\n",
       "2    university.degree           0.137245     12168\n",
       "3  professional.course           0.113528      5241\n",
       "4          high.school           0.108367      9514\n",
       "5             basic.4y           0.102490      4176\n",
       "6             basic.6y           0.082024      2292\n",
       "7             basic.9y           0.078120      6042"
      ]
     },
     "execution_count": 13,
     "metadata": {},
     "output_type": "execute_result"
    }
   ],
   "source": [
    "# Calcul du taux de souscription par niveau d'études\n",
    "rate_education= (\n",
    "    data.groupby('education')['y']\n",
    "    .agg(subscription_rate='mean', effectif='size')  # calcule la moyenne et la taille\n",
    "    .reset_index()\n",
    "    .sort_values('subscription_rate', ascending=False)\n",
    "    .reset_index(drop=True)\n",
    ")\n",
    "rate_education"
   ]
  },
  {
   "cell_type": "code",
   "execution_count": 14,
   "id": "b13b3dc4-ab64-4a7d-aa7b-57ce4b27846d",
   "metadata": {},
   "outputs": [
    {
     "data": {
      "image/png": "[encoded data removed]",
      "text/plain": [
       "<Figure size 600x300 with 1 Axes>"
      ]
     },
     "metadata": {},
     "output_type": "display_data"
    }
   ],
   "source": [
    "# Configuration du style sans grille\n",
    "sns.set_theme(style=\"white\")  # Style clair sans grilles\n",
    "\n",
    "# Figure + axes\n",
    "fig, ax = plt.subplots(figsize=(6, 3))\n",
    "\n",
    "# Application de la fonction\n",
    "plot_horizontal_bar_with_labels(ax, rate_education, 'education', \"Taux de souscription par niveau d'études\")\n",
    "\n",
    "# Ajustements\n",
    "plt.tight_layout()\n",
    "plt.xlim(0,0.3)           # Limites de l'axe X de 0 à 0.3 (0% à 30%)\n",
    "plt.show()"
   ]
  },
  {
   "cell_type": "markdown",
   "id": "e1f5b671-4779-45af-9fb4-4cbec33cb462",
   "metadata": {},
   "source": [
    "**Interprétation**\n",
    "\n",
    "L’analyse des taux de souscription aux dépôts à terme selon le niveau d’éducation révèle des variations significatives.<br>\n",
    "Le taux de souscription le plus élevé est observé chez les personnes illettrées, avec 22,2 %, suivi par les individus dont le niveau d’éducation est manquant à 14,5 %. En revanche, les détenteurs d’un diplôme universitaire affichent un taux plus modéré de 13,7 %. Les souscriptions diminuent progressivement avec les niveaux d’éducation élémentaires : 10,2 % pour un niveau basique 4 ans, 8,2 % pour 6 ans et 7,8 % pour 9 ans d’éducation élémentaire.<br>\n",
    "Ces résultats suggèrent une relation inverse entre le niveau d’éducation formelle et la propension à souscrire aux dépôts à terme, ce qui peut traduire des différences dans la perception des produits financiers ou dans les besoins d’épargne."
   ]
  },
  {
   "cell_type": "markdown",
   "id": "1315b474-4440-45e9-b951-a11183567a29",
   "metadata": {},
   "source": [
    "### Evolution des souscriptions par mois"
   ]
  },
  {
   "cell_type": "code",
   "execution_count": 15,
   "id": "63e2a4ec-19a0-4123-af89-b1230c312583",
   "metadata": {},
   "outputs": [
    {
     "data": {
      "text/html": [
       "<div>\n",
       "<style scoped>\n",
       "    .dataframe tbody tr th:only-of-type {\n",
       "        vertical-align: middle;\n",
       "    }\n",
       "\n",
       "    .dataframe tbody tr th {\n",
       "        vertical-align: top;\n",
       "    }\n",
       "\n",
       "    .dataframe thead th {\n",
       "        text-align: right;\n",
       "    }\n",
       "</style>\n",
       "<table border=\"1\" class=\"dataframe\">\n",
       "  <thead>\n",
       "    <tr style=\"text-align: right;\">\n",
       "      <th></th>\n",
       "      <th>month</th>\n",
       "      <th>subscription_rate</th>\n",
       "      <th>effectif</th>\n",
       "      <th>month_num</th>\n",
       "    </tr>\n",
       "  </thead>\n",
       "  <tbody>\n",
       "    <tr>\n",
       "      <th>0</th>\n",
       "      <td>mar</td>\n",
       "      <td>0.505495</td>\n",
       "      <td>546</td>\n",
       "      <td>3</td>\n",
       "    </tr>\n",
       "    <tr>\n",
       "      <th>4</th>\n",
       "      <td>apr</td>\n",
       "      <td>0.204787</td>\n",
       "      <td>2632</td>\n",
       "      <td>4</td>\n",
       "    </tr>\n",
       "    <tr>\n",
       "      <th>9</th>\n",
       "      <td>may</td>\n",
       "      <td>0.064347</td>\n",
       "      <td>13769</td>\n",
       "      <td>5</td>\n",
       "    </tr>\n",
       "    <tr>\n",
       "      <th>6</th>\n",
       "      <td>jun</td>\n",
       "      <td>0.105115</td>\n",
       "      <td>5318</td>\n",
       "      <td>6</td>\n",
       "    </tr>\n",
       "    <tr>\n",
       "      <th>8</th>\n",
       "      <td>jul</td>\n",
       "      <td>0.090466</td>\n",
       "      <td>7174</td>\n",
       "      <td>7</td>\n",
       "    </tr>\n",
       "    <tr>\n",
       "      <th>5</th>\n",
       "      <td>aug</td>\n",
       "      <td>0.105962</td>\n",
       "      <td>6172</td>\n",
       "      <td>8</td>\n",
       "    </tr>\n",
       "    <tr>\n",
       "      <th>2</th>\n",
       "      <td>sep</td>\n",
       "      <td>0.449123</td>\n",
       "      <td>570</td>\n",
       "      <td>9</td>\n",
       "    </tr>\n",
       "    <tr>\n",
       "      <th>3</th>\n",
       "      <td>oct</td>\n",
       "      <td>0.437936</td>\n",
       "      <td>717</td>\n",
       "      <td>10</td>\n",
       "    </tr>\n",
       "    <tr>\n",
       "      <th>7</th>\n",
       "      <td>nov</td>\n",
       "      <td>0.101463</td>\n",
       "      <td>4100</td>\n",
       "      <td>11</td>\n",
       "    </tr>\n",
       "    <tr>\n",
       "      <th>1</th>\n",
       "      <td>dec</td>\n",
       "      <td>0.489011</td>\n",
       "      <td>182</td>\n",
       "      <td>12</td>\n",
       "    </tr>\n",
       "  </tbody>\n",
       "</table>\n",
       "</div>"
      ],
      "text/plain": [
       "  month  subscription_rate  effectif  month_num\n",
       "0   mar           0.505495       546          3\n",
       "4   apr           0.204787      2632          4\n",
       "9   may           0.064347     13769          5\n",
       "6   jun           0.105115      5318          6\n",
       "8   jul           0.090466      7174          7\n",
       "5   aug           0.105962      6172          8\n",
       "2   sep           0.449123       570          9\n",
       "3   oct           0.437936       717         10\n",
       "7   nov           0.101463      4100         11\n",
       "1   dec           0.489011       182         12"
      ]
     },
     "execution_count": 15,
     "metadata": {},
     "output_type": "execute_result"
    }
   ],
   "source": [
    "# Mapping des mois\n",
    "month_order = {\n",
    "    'jan': 1, 'feb': 2, 'mar': 3, 'apr': 4,\n",
    "    'may': 5, 'jun': 6, 'jul': 7, 'aug': 8,\n",
    "    'sep': 9, 'oct': 10, 'nov': 11, 'dec': 12\n",
    "}\n",
    "\n",
    "# Calcul du taux de souscription par mois\n",
    "rate_data = (\n",
    "    data.groupby('month')['y']\n",
    "    .agg(subscription_rate='mean', effectif='size')  # calcule la moyenne et la taille\n",
    "    .reset_index()\n",
    "    .sort_values('subscription_rate', ascending=False)\n",
    "    .reset_index(drop=True)\n",
    ")\n",
    "\n",
    "# Ajout d'une colonne avec le numéro de mois pour trier \n",
    "rate_data['month_num'] = rate_data['month'].map(month_order)\n",
    "\n",
    "# Tri selon le numéro du mois\n",
    "rate_data = rate_data.sort_values('month_num')\n",
    "\n",
    "rate_data"
   ]
  },
  {
   "cell_type": "code",
   "execution_count": 16,
   "id": "f36f4f31-9816-4577-ad1c-327bc8a8bef0",
   "metadata": {},
   "outputs": [
    {
     "data": {
      "image/png": "[encoded data removed]",
      "text/plain": [
       "<Figure size 800x400 with 1 Axes>"
      ]
     },
     "metadata": {},
     "output_type": "display_data"
    }
   ],
   "source": [
    "plt.figure(figsize=(8, 4)) # Définir la taille du graphique\n",
    "\n",
    "# Scatter plot de l'évolution du taux de souscription\n",
    "sns.scatterplot(\n",
    "    data=rate_data,\n",
    "    x='month',\n",
    "    y='subscription_rate',\n",
    "    s=50,            # taille des points\n",
    "    color='seagreen' # couleur des points\n",
    ")\n",
    "\n",
    "# Ligne en pointillés reliant les points\n",
    "sns.lineplot(\n",
    "    data=rate_data,\n",
    "    x='month',\n",
    "    y='subscription_rate',\n",
    "    color='seagreen',\n",
    "    linestyle='--', # style de ligne \n",
    "    marker=None     # pas de marqueur sur la ligne\n",
    ")\n",
    "\n",
    "# Titre du graphique\n",
    "plt.title(\"Évolution du taux de souscription par mois\", fontsize=14, fontweight='bold')\n",
    "\n",
    "# Suppression des labels d’axes\n",
    "plt.xlabel(\"\")\n",
    "plt.ylabel(\"\")\n",
    "\n",
    "plt.xticks(rotation=45)  # Rotation des étiquettes de l’axe X pour une meilleure lisibilité\n",
    "plt.grid(False)          # Suppression de la grille\n",
    "plt.tight_layout()       # Ajustement automatique des marges\n",
    "plt.show()"
   ]
  },
  {
   "cell_type": "markdown",
   "id": "b5d2720c-12a4-456c-b306-6752f84ff97d",
   "metadata": {},
   "source": [
    "**Interprétation**\n",
    "\n",
    "L’analyse des taux de souscription aux dépôts à terme selon le mois de contact met en évidence de fortes variations saisonnières.<br>\n",
    "Les taux les plus élevés sont observés en mars (50,5 %), décembre (48,9 %), septembre (44,9 %) et octobre (43,8 %), traduisant une propension accrue à souscrire à certaines périodes de l’année. Ces pics peuvent coïncider avec des moments clés sur le plan financier (par exemple, fin de trimestre ou d’année, versement de primes, ajustements budgétaires ou offres promotionnelles).<br>\n",
    "À l’inverse, les mois de mai (6,4 %), juillet (9,04 %), novembre (10,1 %), juin (10,5 %) et août (10,6 %) affichent les taux de souscription les plus faibles, ce qui peut refléter des périodes de moindre disponibilité des clients ou de priorités financières différentes (vacances, dépenses saisonnières, rentrée scolaire)."
   ]
  },
  {
   "cell_type": "markdown",
   "id": "b4682fe7-2818-453a-81f7-8d6ca735c14b",
   "metadata": {},
   "source": [
    "### Evolution des souscriptions par jour"
   ]
  },
  {
   "cell_type": "code",
   "execution_count": 17,
   "id": "0ed014f8-ef54-4c8b-b0a4-1b2bd7bec23b",
   "metadata": {},
   "outputs": [
    {
     "data": {
      "text/html": [
       "<div>\n",
       "<style scoped>\n",
       "    .dataframe tbody tr th:only-of-type {\n",
       "        vertical-align: middle;\n",
       "    }\n",
       "\n",
       "    .dataframe tbody tr th {\n",
       "        vertical-align: top;\n",
       "    }\n",
       "\n",
       "    .dataframe thead th {\n",
       "        text-align: right;\n",
       "    }\n",
       "</style>\n",
       "<table border=\"1\" class=\"dataframe\">\n",
       "  <thead>\n",
       "    <tr style=\"text-align: right;\">\n",
       "      <th></th>\n",
       "      <th>day_of_week</th>\n",
       "      <th>subscription_rate</th>\n",
       "      <th>effectif</th>\n",
       "      <th>day_num</th>\n",
       "    </tr>\n",
       "  </thead>\n",
       "  <tbody>\n",
       "    <tr>\n",
       "      <th>4</th>\n",
       "      <td>mon</td>\n",
       "      <td>0.099483</td>\n",
       "      <td>8514</td>\n",
       "      <td>1</td>\n",
       "    </tr>\n",
       "    <tr>\n",
       "      <th>1</th>\n",
       "      <td>tue</td>\n",
       "      <td>0.117734</td>\n",
       "      <td>8086</td>\n",
       "      <td>2</td>\n",
       "    </tr>\n",
       "    <tr>\n",
       "      <th>2</th>\n",
       "      <td>wed</td>\n",
       "      <td>0.116685</td>\n",
       "      <td>8133</td>\n",
       "      <td>3</td>\n",
       "    </tr>\n",
       "    <tr>\n",
       "      <th>0</th>\n",
       "      <td>thu</td>\n",
       "      <td>0.121188</td>\n",
       "      <td>8623</td>\n",
       "      <td>4</td>\n",
       "    </tr>\n",
       "    <tr>\n",
       "      <th>3</th>\n",
       "      <td>fri</td>\n",
       "      <td>0.108001</td>\n",
       "      <td>7824</td>\n",
       "      <td>5</td>\n",
       "    </tr>\n",
       "  </tbody>\n",
       "</table>\n",
       "</div>"
      ],
      "text/plain": [
       "  day_of_week  subscription_rate  effectif  day_num\n",
       "4         mon           0.099483      8514        1\n",
       "1         tue           0.117734      8086        2\n",
       "2         wed           0.116685      8133        3\n",
       "0         thu           0.121188      8623        4\n",
       "3         fri           0.108001      7824        5"
      ]
     },
     "execution_count": 17,
     "metadata": {},
     "output_type": "execute_result"
    }
   ],
   "source": [
    "# Mapping des jours\n",
    "day_order = {'mon': 1, 'tue': 2, 'wed': 3, 'thu': 4, 'fri': 5}\n",
    "\n",
    "# Calcul du taux de souscription par jour\n",
    "rate_day = (\n",
    "    data.groupby('day_of_week')['y']\n",
    "    .agg(subscription_rate='mean', effectif='size')  # calcule la moyenne et la taille\n",
    "    .reset_index()\n",
    "    .sort_values('subscription_rate', ascending=False)\n",
    "    .reset_index(drop=True)\n",
    ")\n",
    "\n",
    "# Ajout d'une colonne avec le numéro de mois pour trier \n",
    "rate_day['day_num'] = rate_day['day_of_week'].map(day_order)\n",
    "\n",
    "# Tri selon le numéro du mois\n",
    "rate_day = rate_day.sort_values('day_num')\n",
    "\n",
    "rate_day"
   ]
  },
  {
   "cell_type": "code",
   "execution_count": 18,
   "id": "b0bdcf72-45aa-4027-b03a-14d11712fb1c",
   "metadata": {},
   "outputs": [],
   "source": [
    "def plot_vertical_bar_with_labels(ax, df, x_col, title):\n",
    "    \"\"\"\n",
    "    Description:\n",
    "        Trace un barplot avec annotations pour visualiser le taux de souscription.\n",
    "\n",
    "    Arguments:\n",
    "        ax : l'axe sur lequel tracer le graphique.\n",
    "        df : le DataFrame contenant les données.\n",
    "        x_col (str) : le nom de la colonne à utiliser pour l'axe X (catégories).\n",
    "        title (str) : le titre du graphique.\n",
    "\n",
    "    Retourne:\n",
    "        Un barplot avec des annotations\n",
    "    \"\"\"\n",
    "    \n",
    "    # Création d'une palette \"Greens\" (du vert foncé au clair)\n",
    "    palette = sns.color_palette(\"Greens\", n_colors=len(df))\n",
    "\n",
    "    # Création du barplot\n",
    "    sns.barplot(\n",
    "        data=df,\n",
    "        x=x_col,\n",
    "        y='subscription_rate',\n",
    "        hue='subscription_rate', # Utilisation de la variable 'subscription_rate' pour la couleur\n",
    "        palette=palette,         \n",
    "        legend=False,\n",
    "        ax=ax\n",
    "    )\n",
    "\n",
    "    # Ajout des pourcentages sur les barres\n",
    "    for p in ax.patches:\n",
    "        ax.annotate(\n",
    "            f\"{p.get_height()*100:.1f}%\",                    # Texte avec pourcentage formaté\n",
    "            (p.get_x() + p.get_width() / 2, p.get_height()), # Position au centre haut de la barre\n",
    "            ha='center', va='bottom', fontsize=10            # Alignement horizontal et vertical, taille du texte\n",
    "        )\n",
    "    ax.set_title(title, fontsize=12, fontweight='bold')      # Titre du graphique avec style gras et taille de police\n",
    "    ax.set_xlabel(\"\")                                        # Suppression du label de l'axe X\n",
    "    ax.set_ylabel(\"\")                                        # Suppression du label de l'axe Y\n",
    "    ax.set_yticks([])                                        # Suppression des valeurs affichées sur l'axe Y"
   ]
  },
  {
   "cell_type": "code",
   "execution_count": 19,
   "id": "f28b2685-d68f-43b1-98f2-43dbeb05f11f",
   "metadata": {},
   "outputs": [
    {
     "data": {
      "image/png": "[encoded data removed]",
      "text/plain": [
       "<Figure size 600x400 with 1 Axes>"
      ]
     },
     "metadata": {},
     "output_type": "display_data"
    }
   ],
   "source": [
    "# Configuration du style sans grille\n",
    "sns.set_theme(style=\"white\")\n",
    "\n",
    "# Figure + axes\n",
    "fig, ax = plt.subplots(figsize=(6, 4))\n",
    "\n",
    "# Application de la fonction\n",
    "plot_vertical_bar_with_labels(ax, rate_day, 'day_of_week', \"Évolution du taux de souscription par jour\")\n",
    "\n",
    "# Ajustements\n",
    "plt.tight_layout()\n",
    "plt.show()"
   ]
  },
  {
   "cell_type": "markdown",
   "id": "5a4b35f3-d73a-4625-b6eb-54554597a5fb",
   "metadata": {},
   "source": [
    "**Interprétation**\n",
    "\n",
    "L’analyse des taux de souscription aux dépôts à terme en fonction du jour de la semaine montre des variations modérées mais significatives.<br>\n",
    "Le jeudi enregistre le taux le plus élevé avec 12,1 %, suivi de près par le mardi (11,8 %) et le mercredi (11,7 %). Les performances sont légèrement plus faibles le vendredi (10,8 %) et atteignent leur minimum le lundi (9,9 %).<br>\n",
    "Ces différences peuvent refléter des dynamiques comportementales : en début de semaine, les clients peuvent être moins réceptifs aux sollicitations commerciales, tandis que les milieux de semaine semblent plus propices aux décisions financières."
   ]
  },
  {
   "cell_type": "markdown",
   "id": "e415a462-202f-49d0-89da-5f9481d30d76",
   "metadata": {},
   "source": [
    "### Crédits vs Souscription"
   ]
  },
  {
   "cell_type": "code",
   "execution_count": 20,
   "id": "b766698a-3420-4deb-a4d2-f59e02c9c2e9",
   "metadata": {},
   "outputs": [
    {
     "data": {
      "text/html": [
       "<div>\n",
       "<style scoped>\n",
       "    .dataframe tbody tr th:only-of-type {\n",
       "        vertical-align: middle;\n",
       "    }\n",
       "\n",
       "    .dataframe tbody tr th {\n",
       "        vertical-align: top;\n",
       "    }\n",
       "\n",
       "    .dataframe thead th {\n",
       "        text-align: right;\n",
       "    }\n",
       "</style>\n",
       "<table border=\"1\" class=\"dataframe\">\n",
       "  <thead>\n",
       "    <tr style=\"text-align: right;\">\n",
       "      <th></th>\n",
       "      <th>default</th>\n",
       "      <th>subscription_rate</th>\n",
       "      <th>effectif</th>\n",
       "    </tr>\n",
       "  </thead>\n",
       "  <tbody>\n",
       "    <tr>\n",
       "      <th>0</th>\n",
       "      <td>no</td>\n",
       "      <td>0.128748</td>\n",
       "      <td>32583</td>\n",
       "    </tr>\n",
       "    <tr>\n",
       "      <th>1</th>\n",
       "      <td>missing</td>\n",
       "      <td>0.051530</td>\n",
       "      <td>8597</td>\n",
       "    </tr>\n",
       "  </tbody>\n",
       "</table>\n",
       "</div>"
      ],
      "text/plain": [
       "   default  subscription_rate  effectif\n",
       "0       no           0.128748     32583\n",
       "1  missing           0.051530      8597"
      ]
     },
     "execution_count": 20,
     "metadata": {},
     "output_type": "execute_result"
    }
   ],
   "source": [
    "# Calcul du taux de souscription par défaut de crédit\n",
    "rate_default = (\n",
    "    data.groupby('default')['y']\n",
    "    .agg(subscription_rate='mean', effectif='size')  # calcule la moyenne et la taille\n",
    "    .reset_index()\n",
    "    .sort_values('subscription_rate', ascending=False)\n",
    "    .reset_index(drop=True)\n",
    ")\n",
    "rate_default"
   ]
  },
  {
   "cell_type": "code",
   "execution_count": 21,
   "id": "13273eb5-8792-4e4b-8b51-548a236ff52d",
   "metadata": {},
   "outputs": [
    {
     "data": {
      "text/html": [
       "<div>\n",
       "<style scoped>\n",
       "    .dataframe tbody tr th:only-of-type {\n",
       "        vertical-align: middle;\n",
       "    }\n",
       "\n",
       "    .dataframe tbody tr th {\n",
       "        vertical-align: top;\n",
       "    }\n",
       "\n",
       "    .dataframe thead th {\n",
       "        text-align: right;\n",
       "    }\n",
       "</style>\n",
       "<table border=\"1\" class=\"dataframe\">\n",
       "  <thead>\n",
       "    <tr style=\"text-align: right;\">\n",
       "      <th></th>\n",
       "      <th>housing</th>\n",
       "      <th>subscription_rate</th>\n",
       "      <th>effectif</th>\n",
       "    </tr>\n",
       "  </thead>\n",
       "  <tbody>\n",
       "    <tr>\n",
       "      <th>0</th>\n",
       "      <td>yes</td>\n",
       "      <td>0.116215</td>\n",
       "      <td>21572</td>\n",
       "    </tr>\n",
       "    <tr>\n",
       "      <th>1</th>\n",
       "      <td>no</td>\n",
       "      <td>0.108760</td>\n",
       "      <td>18619</td>\n",
       "    </tr>\n",
       "    <tr>\n",
       "      <th>2</th>\n",
       "      <td>missing</td>\n",
       "      <td>0.107179</td>\n",
       "      <td>989</td>\n",
       "    </tr>\n",
       "  </tbody>\n",
       "</table>\n",
       "</div>"
      ],
      "text/plain": [
       "   housing  subscription_rate  effectif\n",
       "0      yes           0.116215     21572\n",
       "1       no           0.108760     18619\n",
       "2  missing           0.107179       989"
      ]
     },
     "execution_count": 21,
     "metadata": {},
     "output_type": "execute_result"
    }
   ],
   "source": [
    "# Calcul du taux de souscription par crédit locatif\n",
    "rate_housing = (\n",
    "    data.groupby('housing')['y']\n",
    "    .agg(subscription_rate='mean', effectif='size')  # calcule la moyenne et la taille\n",
    "    .reset_index()\n",
    "    .sort_values('subscription_rate', ascending=False)\n",
    "    .reset_index(drop=True)\n",
    ")\n",
    "rate_housing"
   ]
  },
  {
   "cell_type": "code",
   "execution_count": 22,
   "id": "5e98f61e-0ab9-4992-99a3-d9773184b7d1",
   "metadata": {},
   "outputs": [
    {
     "data": {
      "text/html": [
       "<div>\n",
       "<style scoped>\n",
       "    .dataframe tbody tr th:only-of-type {\n",
       "        vertical-align: middle;\n",
       "    }\n",
       "\n",
       "    .dataframe tbody tr th {\n",
       "        vertical-align: top;\n",
       "    }\n",
       "\n",
       "    .dataframe thead th {\n",
       "        text-align: right;\n",
       "    }\n",
       "</style>\n",
       "<table border=\"1\" class=\"dataframe\">\n",
       "  <thead>\n",
       "    <tr style=\"text-align: right;\">\n",
       "      <th></th>\n",
       "      <th>loan</th>\n",
       "      <th>subscription_rate</th>\n",
       "      <th>effectif</th>\n",
       "    </tr>\n",
       "  </thead>\n",
       "  <tbody>\n",
       "    <tr>\n",
       "      <th>0</th>\n",
       "      <td>no</td>\n",
       "      <td>0.113422</td>\n",
       "      <td>33944</td>\n",
       "    </tr>\n",
       "    <tr>\n",
       "      <th>1</th>\n",
       "      <td>yes</td>\n",
       "      <td>0.109172</td>\n",
       "      <td>6247</td>\n",
       "    </tr>\n",
       "    <tr>\n",
       "      <th>2</th>\n",
       "      <td>missing</td>\n",
       "      <td>0.107179</td>\n",
       "      <td>989</td>\n",
       "    </tr>\n",
       "  </tbody>\n",
       "</table>\n",
       "</div>"
      ],
      "text/plain": [
       "      loan  subscription_rate  effectif\n",
       "0       no           0.113422     33944\n",
       "1      yes           0.109172      6247\n",
       "2  missing           0.107179       989"
      ]
     },
     "execution_count": 22,
     "metadata": {},
     "output_type": "execute_result"
    }
   ],
   "source": [
    "# Calcul du taux de souscription par prêt personnel\n",
    "rate_loan = (\n",
    "    data.groupby('loan')['y']\n",
    "    .agg(subscription_rate='mean', effectif='size')  # calcule la moyenne et la taille\n",
    "    .reset_index()\n",
    "    .sort_values('subscription_rate', ascending=False)\n",
    "    .reset_index(drop=True)\n",
    ")\n",
    "rate_loan"
   ]
  },
  {
   "cell_type": "code",
   "execution_count": 23,
   "id": "99de89a4-79bb-47a0-93dd-38997e8e47f7",
   "metadata": {},
   "outputs": [
    {
     "data": {
      "image/png": "[encoded data removed]",
      "text/plain": [
       "<Figure size 1200x400 with 3 Axes>"
      ]
     },
     "metadata": {},
     "output_type": "display_data"
    }
   ],
   "source": [
    "# Configuration du style sans grille\n",
    "sns.set_theme(style=\"white\")\n",
    "\n",
    "# Figure + axes\n",
    "fig, axes = plt.subplots(1, 3, figsize=(12, 4), sharey=True)\n",
    "\n",
    "# 1️⃣ Défaut de crédit\n",
    "plot_vertical_bar_with_labels(axes[0], rate_default, 'default', \"Taux de souscription par défaut de paiement\")\n",
    "\n",
    "# 2️⃣ Crédit locatif\n",
    "plot_vertical_bar_with_labels(axes[1], rate_housing, 'housing', \"Taux de souscription par prêt immobilier\")\n",
    "\n",
    "# 3️⃣ Prêt personnel\n",
    "plot_vertical_bar_with_labels(axes[2], rate_loan, 'loan', \"Taux de souscription par prêt personnel\")\n",
    "\n",
    "# Ajustements\n",
    "plt.tight_layout()\n",
    "plt.show()"
   ]
  },
  {
   "cell_type": "markdown",
   "id": "87d5be0e-5d43-4b28-a3db-7657ece6231b",
   "metadata": {},
   "source": [
    "**Interprétation**\n",
    "\n",
    "Trois variables financières ont été analysées : default (défaut de paiement), housing (prêt immobilier) et loan (prêt personnel).\n",
    "1. `default`\n",
    "\n",
    "    Les clients ne présentant pas de défaut de paiement enregistrent un taux de souscription de **12,9 %**, nettement supérieur à celui des individus pour lesquels l’information est manquante (**5,2 %**). Cela suggère qu’un historique de paiement connu et sans défaut est un indicateur positif de souscription.\n",
    "\n",
    "2. `housing`\n",
    "\n",
    "    Les clients disposant d’un prêt immobilier présentent un taux de souscription de **11,6 %**, légèrement supérieur à ceux sans prêt immobilier (**10,9 %**) ou avec données manquantes (**10,7 %**). Cette différence, bien que faible, peut indiquer que les détenteurs d’un prêt immobilier ont un profil financier plus structuré et une relation bancaire plus active, ce qui peut les rendre plus réceptifs à des produits d’épargne complémentaire comme les dépôts à terme. Toutefois, l’écart réduit suggère que ce facteur seul n’est pas un déterminant majeur de la souscription, mais qu’il pourrait jouer un rôle combiné avec d’autres variables (âge, revenu, profession, etc.).\n",
    "   \n",
    "3. `loan`\n",
    "\n",
    "    La possession d’un prêt personnel est associée à un taux de souscription légèrement plus faible (**10,9 %**) que pour ceux sans prêt personnel (**11,3 %**), l’écart étant ici également faible. Cette différence minime pourrait refléter une contrainte budgétaire liée aux remboursements du prêt, réduisant la capacité ou la volonté d’immobiliser des fonds dans un dépôt à terme. Cependant, l’impact reste faible et ne permet pas d’affirmer que la possession d’un prêt personnel freine significativement la souscription."
   ]
  },
  {
   "cell_type": "markdown",
   "id": "454e24ca-eddb-4f3c-881e-4302009d588d",
   "metadata": {},
   "source": [
    "### Contact vs Souscription"
   ]
  },
  {
   "cell_type": "code",
   "execution_count": 24,
   "id": "aaf4b7b2-d88c-439a-ba21-46dfb00abb7f",
   "metadata": {},
   "outputs": [
    {
     "data": {
      "text/html": [
       "<div>\n",
       "<style scoped>\n",
       "    .dataframe tbody tr th:only-of-type {\n",
       "        vertical-align: middle;\n",
       "    }\n",
       "\n",
       "    .dataframe tbody tr th {\n",
       "        vertical-align: top;\n",
       "    }\n",
       "\n",
       "    .dataframe thead th {\n",
       "        text-align: right;\n",
       "    }\n",
       "</style>\n",
       "<table border=\"1\" class=\"dataframe\">\n",
       "  <thead>\n",
       "    <tr style=\"text-align: right;\">\n",
       "      <th></th>\n",
       "      <th>contact</th>\n",
       "      <th>subscription_rate</th>\n",
       "      <th>effectif</th>\n",
       "    </tr>\n",
       "  </thead>\n",
       "  <tbody>\n",
       "    <tr>\n",
       "      <th>0</th>\n",
       "      <td>cellular</td>\n",
       "      <td>0.147345</td>\n",
       "      <td>26136</td>\n",
       "    </tr>\n",
       "    <tr>\n",
       "      <th>1</th>\n",
       "      <td>telephone</td>\n",
       "      <td>0.052313</td>\n",
       "      <td>15044</td>\n",
       "    </tr>\n",
       "  </tbody>\n",
       "</table>\n",
       "</div>"
      ],
      "text/plain": [
       "     contact  subscription_rate  effectif\n",
       "0   cellular           0.147345     26136\n",
       "1  telephone           0.052313     15044"
      ]
     },
     "execution_count": 24,
     "metadata": {},
     "output_type": "execute_result"
    }
   ],
   "source": [
    "# Calcul du taux de souscription par défaut de crédit\n",
    "rate_contact = (\n",
    "    data.groupby('contact')['y']\n",
    "    .agg(subscription_rate='mean', effectif='size')  # calcule la moyenne et la taille\n",
    "    .reset_index()\n",
    "    .sort_values('subscription_rate', ascending=False)\n",
    "    .reset_index(drop=True)\n",
    ")\n",
    "rate_contact"
   ]
  },
  {
   "cell_type": "code",
   "execution_count": 25,
   "id": "d374f439-c6fc-43c6-8fcf-c8a8cc2dcd48",
   "metadata": {},
   "outputs": [
    {
     "data": {
      "image/png": "[encoded data removed]",
      "text/plain": [
       "<Figure size 600x400 with 1 Axes>"
      ]
     },
     "metadata": {},
     "output_type": "display_data"
    }
   ],
   "source": [
    "# Configuration du style sans grille\n",
    "sns.set_theme(style=\"white\")\n",
    "\n",
    "# Figure + axes\n",
    "fig, ax = plt.subplots(figsize=(6, 4))\n",
    "\n",
    "# Application de la fonction\n",
    "plot_vertical_bar_with_labels(ax, rate_contact, 'contact', \"Taux de souscription par type de contact\")\n",
    "\n",
    "# Ajustements\n",
    "plt.tight_layout()\n",
    "plt.show()"
   ]
  },
  {
   "cell_type": "markdown",
   "id": "f8d20a0d-5a2d-4fb7-a2fa-13bfa149dafa",
   "metadata": {},
   "source": [
    "**Interprétation**\n",
    "\n",
    "L’analyse révèle un écart significatif de performance selon le canal de contact utilisé. Les clients contactés par téléphone mobile (cellular) présentent un taux de souscription de **14,7 %**, soit près de trois fois supérieur à celui observé pour les contacts par ligne fixe (telephone), qui s’élève à **5,2 %**.<br>\n",
    "Cette différence peut s’expliquer par plusieurs facteurs :\n",
    "* **Disponibilité et réactivité** : les contacts via mobile permettent de joindre les clients plus facilement et à des moments plus opportuns.\n",
    "* **Qualité de l’échange** : un contact sur mobile peut favoriser une interaction plus personnalisée et directe.\n",
    "* **Obsolescence du canal fixe** : les lignes fixes étant moins utilisées, ce canal peut cibler une clientèle plus restreinte ou moins réceptive."
   ]
  },
  {
   "cell_type": "markdown",
   "id": "d8e05829-23bc-4c9f-8d74-93f267b13489",
   "metadata": {},
   "source": [
    "### Contact préalable vs Souscription"
   ]
  },
  {
   "cell_type": "code",
   "execution_count": 26,
   "id": "fcb007fa-bc15-452f-8135-c60b0cf0a90c",
   "metadata": {},
   "outputs": [
    {
     "data": {
      "text/html": [
       "<div>\n",
       "<style scoped>\n",
       "    .dataframe tbody tr th:only-of-type {\n",
       "        vertical-align: middle;\n",
       "    }\n",
       "\n",
       "    .dataframe tbody tr th {\n",
       "        vertical-align: top;\n",
       "    }\n",
       "\n",
       "    .dataframe thead th {\n",
       "        text-align: right;\n",
       "    }\n",
       "</style>\n",
       "<table border=\"1\" class=\"dataframe\">\n",
       "  <thead>\n",
       "    <tr style=\"text-align: right;\">\n",
       "      <th></th>\n",
       "      <th>never_contacted</th>\n",
       "      <th>subscription_rate</th>\n",
       "      <th>effectif</th>\n",
       "    </tr>\n",
       "  </thead>\n",
       "  <tbody>\n",
       "    <tr>\n",
       "      <th>0</th>\n",
       "      <td>contacted</td>\n",
       "      <td>0.638889</td>\n",
       "      <td>1512</td>\n",
       "    </tr>\n",
       "    <tr>\n",
       "      <th>1</th>\n",
       "      <td>never_contacted</td>\n",
       "      <td>0.092568</td>\n",
       "      <td>39668</td>\n",
       "    </tr>\n",
       "  </tbody>\n",
       "</table>\n",
       "</div>"
      ],
      "text/plain": [
       "   never_contacted  subscription_rate  effectif\n",
       "0        contacted           0.638889      1512\n",
       "1  never_contacted           0.092568     39668"
      ]
     },
     "execution_count": 26,
     "metadata": {},
     "output_type": "execute_result"
    }
   ],
   "source": [
    "# Mapping des jours\n",
    "map_never_contacted = {0: 'contacted', 1: 'never_contacted'}\n",
    "\n",
    "rate_never_contacted = (\n",
    "    data.groupby('never_contacted')['y']\n",
    "    .agg(subscription_rate='mean', effectif='size')  # calcule la moyenne et la taille\n",
    "    .reset_index()\n",
    "    .sort_values('subscription_rate', ascending=False)\n",
    "    .reset_index(drop=True)\n",
    ")\n",
    "\n",
    "# Ajout d'une colonne avec le numéro de mois pour trier \n",
    "rate_never_contacted['never_contacted'] = rate_never_contacted['never_contacted'].map(map_never_contacted)\n",
    "\n",
    "rate_never_contacted"
   ]
  },
  {
   "cell_type": "code",
   "execution_count": 27,
   "id": "460e8945-d565-4293-b211-c2971c16ac00",
   "metadata": {},
   "outputs": [
    {
     "data": {
      "image/png": "[encoded data removed]",
      "text/plain": [
       "<Figure size 600x400 with 1 Axes>"
      ]
     },
     "metadata": {},
     "output_type": "display_data"
    }
   ],
   "source": [
    "# Configuration du style sans grille\n",
    "sns.set_theme(style=\"white\")\n",
    "\n",
    "# Figure + axes\n",
    "fig, ax = plt.subplots(figsize=(6, 4))\n",
    "\n",
    "# Application de la fonction\n",
    "plot_vertical_bar_with_labels(ax,rate_never_contacted, 'never_contacted', \"Taux de souscription par contact préalable\")\n",
    "\n",
    "# Ajustements\n",
    "plt.tight_layout()\n",
    "plt.show()"
   ]
  },
  {
   "cell_type": "markdown",
   "id": "39fd520e-4f6f-47a2-a60b-afbef5ce255c",
   "metadata": {},
   "source": [
    "**Interprétation**\n",
    "\n",
    "L’examen de la variable never_contacted met en évidence un contraste très marqué dans les taux de souscription. Les clients déjà contactés auparavant affichent un taux de **63,9 %**, contre seulement **9,3 %** pour ceux qui n’avaient jamais été contactés.<br>\n",
    "Cette différence suggère que l’historique de contact est un facteur déterminant dans la propension à souscrire. Un client ayant déjà eu une interaction commerciale avec l’établissement est non seulement plus informé sur les produits, mais aussi potentiellement plus confiant et engagé dans la relation bancaire."
   ]
  },
  {
   "cell_type": "markdown",
   "id": "93d5117f-8e00-40e5-9e19-254e538a3677",
   "metadata": {},
   "source": [
    "### Campagne précédente vs Souscription"
   ]
  },
  {
   "cell_type": "code",
   "execution_count": 28,
   "id": "5783aeb9-be94-4785-8196-0e36726334ff",
   "metadata": {},
   "outputs": [
    {
     "data": {
      "text/html": [
       "<div>\n",
       "<style scoped>\n",
       "    .dataframe tbody tr th:only-of-type {\n",
       "        vertical-align: middle;\n",
       "    }\n",
       "\n",
       "    .dataframe tbody tr th {\n",
       "        vertical-align: top;\n",
       "    }\n",
       "\n",
       "    .dataframe thead th {\n",
       "        text-align: right;\n",
       "    }\n",
       "</style>\n",
       "<table border=\"1\" class=\"dataframe\">\n",
       "  <thead>\n",
       "    <tr style=\"text-align: right;\">\n",
       "      <th></th>\n",
       "      <th>poutcome</th>\n",
       "      <th>subscription_rate</th>\n",
       "      <th>effectif</th>\n",
       "    </tr>\n",
       "  </thead>\n",
       "  <tbody>\n",
       "    <tr>\n",
       "      <th>0</th>\n",
       "      <td>success</td>\n",
       "      <td>0.651825</td>\n",
       "      <td>1370</td>\n",
       "    </tr>\n",
       "    <tr>\n",
       "      <th>1</th>\n",
       "      <td>failure</td>\n",
       "      <td>0.142151</td>\n",
       "      <td>4249</td>\n",
       "    </tr>\n",
       "    <tr>\n",
       "      <th>2</th>\n",
       "      <td>no_previous_contact</td>\n",
       "      <td>0.088327</td>\n",
       "      <td>35561</td>\n",
       "    </tr>\n",
       "  </tbody>\n",
       "</table>\n",
       "</div>"
      ],
      "text/plain": [
       "              poutcome  subscription_rate  effectif\n",
       "0              success           0.651825      1370\n",
       "1              failure           0.142151      4249\n",
       "2  no_previous_contact           0.088327     35561"
      ]
     },
     "execution_count": 28,
     "metadata": {},
     "output_type": "execute_result"
    }
   ],
   "source": [
    "# Calcul du taux de souscription par défaut de crédit\n",
    "rate_poutcome = (\n",
    "    data.groupby('poutcome')['y']\n",
    "    .agg(subscription_rate='mean', effectif='size')  # calcule la moyenne et la taille\n",
    "    .reset_index()\n",
    "    .sort_values('subscription_rate', ascending=False)\n",
    "    .reset_index(drop=True)\n",
    ")\n",
    "rate_poutcome"
   ]
  },
  {
   "cell_type": "code",
   "execution_count": 29,
   "id": "2d26f2eb-5cfd-46df-964e-00dccafaef2c",
   "metadata": {},
   "outputs": [
    {
     "data": {
      "image/png": "[encoded data removed]",
      "text/plain": [
       "<Figure size 600x400 with 1 Axes>"
      ]
     },
     "metadata": {},
     "output_type": "display_data"
    }
   ],
   "source": [
    "# Configuration du style sans grille\n",
    "sns.set_theme(style=\"white\")\n",
    "\n",
    "# Figure + axes\n",
    "fig, ax = plt.subplots(figsize=(6, 4))\n",
    "\n",
    "# Application de la fonction\n",
    "plot_vertical_bar_with_labels(ax,rate_poutcome, 'poutcome', \"Taux de souscription par résultat de campagne précédente\")\n",
    "\n",
    "# Ajustements\n",
    "plt.tight_layout()\n",
    "plt.show()"
   ]
  },
  {
   "cell_type": "markdown",
   "id": "025f8d10-2fbc-4152-9276-22a2129f1cd8",
   "metadata": {},
   "source": [
    "**Interprétation**\n",
    "\n",
    "L’analyse met en évidence une corrélation forte entre le résultat d’une campagne précédente et la probabilité de souscription actuelle.\n",
    "* Les clients ayant déjà répondu positivement par le passé (success) affichent un taux de souscription exceptionnellement élevé de **65,2 %**, confirmant l’importance du capital relationnel et de la confiance installée.\n",
    "* Ceux ayant déjà refusé une offre (failure) présentent un taux nettement plus bas, à **14,2 %**, mais encore supérieur à celui des prospects sans contact antérieur.\n",
    "* Les clients n’ayant jamais été sollicités auparavant (no_previous_contact) affichent le taux le plus faible, à **8,8 %**."
   ]
  }
 ],
 "metadata": {
  "kernelspec": {
   "display_name": "Python 3 (ipykernel)",
   "language": "python",
   "name": "python3"
  },
  "language_info": {
   "codemirror_mode": {
    "name": "ipython",
    "version": 3
   },
   "file_extension": ".py",
   "mimetype": "text/x-python",
   "name": "python",
   "nbconvert_exporter": "python",
   "pygments_lexer": "ipython3",
   "version": "3.10.18"
  }
 },
 "nbformat": 4,
 "nbformat_minor": 5
}
